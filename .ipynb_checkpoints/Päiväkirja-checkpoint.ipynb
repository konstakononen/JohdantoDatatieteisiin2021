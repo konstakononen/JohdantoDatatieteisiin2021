{
 "cells": [
  {
   "cell_type": "raw",
   "metadata": {},
   "source": [
    "Johdanto datatieteisiin 2021\n",
    "\n",
    "Oppimispäiväkirjan runko\n"
   ]
  },
  {
   "cell_type": "code",
   "execution_count": null,
   "metadata": {},
   "outputs": [],
   "source": [
    "# Koodiesimerkki"
   ]
  },
  {
   "cell_type": "raw",
   "metadata": {},
   "source": [
    "En ole vielä aloittanut oppimispäiväkirjan kirjoittamista, sillä kevääni on ollut tuskaisen kiireellinen. Minulla on kuitenkin kohtuullisen tasoiset ohjelmointitaidot ja ensimmäisiä testailuja olen tehnyt webscrapingin suhteen. \n",
    "\n",
    "Tavoitteeni arvosanolle on 4-5, joten sen tasoisen harjoitustyön pyrin tekemään. Minulla on nyt aikaa 1kk ja kiire on muiden kurssien ja töiden ohelta helpottanut. "
   ]
  },
  {
   "cell_type": "raw",
   "metadata": {},
   "source": [
    "Päivittelen tätä päiväkirjaa, kun alan käymään kurssimateriaalia kunnolla läpi ensimmäisestä viikosta lähtien. Silloin tästä muodostuu toivotunmukainen. \n",
    "\n",
    "Nyt on pohjat tehty ja Github repo, jotta saan linkin jaettua teille. "
   ]
  }
 ],
 "metadata": {
  "kernelspec": {
   "display_name": "Python 3",
   "language": "python",
   "name": "python3"
  },
  "language_info": {
   "codemirror_mode": {
    "name": "ipython",
    "version": 3
   },
   "file_extension": ".py",
   "mimetype": "text/x-python",
   "name": "python",
   "nbconvert_exporter": "python",
   "pygments_lexer": "ipython3",
   "version": "3.8.5"
  }
 },
 "nbformat": 4,
 "nbformat_minor": 4
}
