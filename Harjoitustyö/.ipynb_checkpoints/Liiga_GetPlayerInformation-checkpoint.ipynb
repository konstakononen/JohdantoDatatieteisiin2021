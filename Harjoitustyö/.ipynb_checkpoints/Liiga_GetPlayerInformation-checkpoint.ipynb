{
 "cells": [
  {
   "cell_type": "code",
   "execution_count": 21,
   "metadata": {},
   "outputs": [
    {
     "name": "stdout",
     "output_type": "stream",
     "text": [
      "Aloitettu: GetPlayerInformation \n",
      "\n"
     ]
    }
   ],
   "source": [
    "print(\"Aloitettu: GetPlayerInformation \\n\")"
   ]
  },
  {
   "cell_type": "code",
   "execution_count": 22,
   "metadata": {},
   "outputs": [],
   "source": [
    "# Ladataan datasetit\n",
    "import pandas as pd\n",
    "\n",
    "df_Players = pd.read_csv('PlayersStats_by_Season.csv')"
   ]
  },
  {
   "cell_type": "code",
   "execution_count": 23,
   "metadata": {},
   "outputs": [],
   "source": [
    "player_paths = df_Players['Linkki'].unique()\n",
    "\n",
    "player_links = []\n",
    "\n",
    "for path in player_paths:\n",
    "    link = \"\"\n",
    "    link = 'https://www.liiga.fi' + path\n",
    "    player_links.append(link)"
   ]
  },
  {
   "cell_type": "code",
   "execution_count": 24,
   "metadata": {},
   "outputs": [],
   "source": [
    "import pandas as pd\n",
    "import bs4\n",
    "import requests\n",
    "from datetime import datetime\n",
    "\n",
    "from bs4 import BeautifulSoup\n",
    "from urllib.request import urlopen"
   ]
  },
  {
   "cell_type": "code",
   "execution_count": null,
   "metadata": {},
   "outputs": [],
   "source": [
    "print(\"Aloitetaan tietojen haku: \")\n",
    "print(datetime.now())\n",
    "print(\"Haettavia pelaajia: \")\n",
    "print(len(player_links))\n",
    "print(\"\")\n",
    "\n",
    "headers = []\n",
    "virheelliset = 0\n",
    "onnistuneet = 0\n",
    "first_url = True\n",
    "\n",
    "# Käydään yksi url-osoite kerrrallaan läpi\n",
    "for url in player_links:\n",
    "    html = urlopen(url)\n",
    "    soup = BeautifulSoup(html, 'lxml')\n",
    "    \n",
    "    player_info = []\n",
    "    \n",
    "    # urlista poimitaan pelaajan id, jota sivusto käyttää\n",
    "    test = url.split('/')\n",
    "    player_id = test[5]\n",
    "    \n",
    "    # Sivun otsikosta pelaajan nimi\n",
    "    title = soup.find('title')  \n",
    "    title_splitted = title.string.split()\n",
    "    last_name = title_splitted[3]\n",
    "    first_name = title_splitted[4]\n",
    "    full_name = (last_name + ' ' + first_name)\n",
    "    \n",
    "    # dataframe otsikko rivistä\n",
    "    \n",
    "    # Tarkista onko ensimmäinen kierros --> Luo dataframe\n",
    "    if first_url:\n",
    "        headers.append('pelaaja_id')\n",
    "        headers.append('koko_nimi')\n",
    "        for info_table in soup.find_all('table', {'id': 'player-info'}):\n",
    "            for header_data in info_table.find_all('th'):\n",
    "                column = header_data.string.strip()\n",
    "                headers.append(column)\n",
    "        \n",
    "        df = pd.DataFrame(columns = headers)\n",
    "    \n",
    "    player_info.append(player_id)\n",
    "    player_info.append(full_name)\n",
    "    \n",
    "    # Haetaan pelaajan tiedot taulukosta ja lisätään df\n",
    "    for info_table in soup.find_all('table', {'id': 'player-info'}):\n",
    "        for data in info_table.find_all('td'):\n",
    "            player_info.append(data.string)\n",
    "    \n",
    "    \n",
    "    \n",
    "    # Tallenna tiedot dataframeen\n",
    "    try:\n",
    "        df.loc[len(df)] = player_info\n",
    "        onnistuneet = onnistuneet + 1\n",
    "        #print('Tallennettu: ' + full_name + ' dataframeen.')\n",
    "        #print(url)\n",
    "        #print(player_info)\n",
    "        #print('')      \n",
    "    except: \n",
    "        virheelliset = virheelliset + 1\n",
    "        #print('Virhe: ' + full_name)\n",
    "        #print(url)\n",
    "        #print(player_info)\n",
    "        #print('')    \n",
    "    \n",
    "    first_url = False\n"
   ]
  },
  {
   "cell_type": "code",
   "execution_count": 26,
   "metadata": {},
   "outputs": [
    {
     "name": "stdout",
     "output_type": "stream",
     "text": [
      "Kaikki pelaajat ladattu. Virheellisiä: 301\n",
      "\n"
     ]
    }
   ],
   "source": [
    "print(\"Kaikki pelaajat ladattu. Virheellisiä: \" + str(virheelliset) + \". Onnistuneita: \" + str(onnistuneet))\n",
    "print(\"\")"
   ]
  },
  {
   "cell_type": "code",
   "execution_count": 27,
   "metadata": {},
   "outputs": [
    {
     "name": "stdout",
     "output_type": "stream",
     "text": [
      "Muutetaan sarakkeiden nimet: \n",
      "\n",
      "pelaaja_id               object\n",
      "Pelaaja_Nimi             object\n",
      "Pelaaja_Joukkue          object\n",
      "Pelaaja_Pelipaikka       object\n",
      "Pelaaja_Syntynyt         object\n",
      "Pelaaja_Kansalaisuus     object\n",
      "Pelaaja_Syntymäpaikka    object\n",
      "Pelaaja_Ikä              object\n",
      "Pelaaja_Pituus           object\n",
      "Pelaaja_Paino            object\n",
      "Pelaaja_Maila            object\n",
      "dtype: object\n",
      "\n"
     ]
    }
   ],
   "source": [
    "print(\"Muutetaan sarakkeiden nimet: \\n\")\n",
    "\n",
    "df.rename(columns= {'koko_nimi': 'Pelaaja_Nimi', \n",
    "                    'Joukkue' : 'Pelaaja_Joukkue', \n",
    "                    'Pelipaikka': 'Pelaaja_Pelipaikka', \n",
    "                    'Syntynyt': 'Pelaaja_Syntynyt', \n",
    "                    'Kansalaisuus': 'Pelaaja_Kansalaisuus', \n",
    "                    'Syntymäpaikka': 'Pelaaja_Syntymäpaikka',\n",
    "                    'Ikä': 'Pelaaja_Ikä', \n",
    "                    'Pituus': 'Pelaaja_Pituus', \n",
    "                    'Paino': 'Pelaaja_Paino', \n",
    "                    'Maila': 'Pelaaja_Maila', \n",
    "                   }, \n",
    "            inplace=True)\n",
    "\n",
    "print(df.dtypes)\n",
    "print(\"\")"
   ]
  },
  {
   "cell_type": "code",
   "execution_count": 28,
   "metadata": {},
   "outputs": [
    {
     "name": "stdout",
     "output_type": "stream",
     "text": [
      "Tallennettu Player_Information.csv \n",
      "\n"
     ]
    }
   ],
   "source": [
    "# tallenna uusi csv\n",
    "\n",
    "df.to_csv(r'C:\\Users\\35840\\Documents\\JohdantoDatatieteisiin2021\\JohdantoDatatieteisiin2021\\Harjoitustyö\\Player_Information.csv', index = False, header=True)\n",
    "\n",
    "print(\"Tallennettu Player_Information.csv \\n\")"
   ]
  },
  {
   "cell_type": "code",
   "execution_count": 29,
   "metadata": {},
   "outputs": [
    {
     "name": "stdout",
     "output_type": "stream",
     "text": [
      "Suoritettu GetPlayerInformation\n"
     ]
    }
   ],
   "source": [
    "print(\"Suoritettu GetPlayerInformation\")"
   ]
  }
 ],
 "metadata": {
  "kernelspec": {
   "display_name": "Python 3",
   "language": "python",
   "name": "python3"
  },
  "language_info": {
   "codemirror_mode": {
    "name": "ipython",
    "version": 3
   },
   "file_extension": ".py",
   "mimetype": "text/x-python",
   "name": "python",
   "nbconvert_exporter": "python",
   "pygments_lexer": "ipython3",
   "version": "3.8.5"
  }
 },
 "nbformat": 4,
 "nbformat_minor": 4
}
