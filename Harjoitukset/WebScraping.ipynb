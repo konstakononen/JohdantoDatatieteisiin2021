{
 "cells": [
  {
   "cell_type": "code",
   "execution_count": 24,
   "metadata": {},
   "outputs": [],
   "source": [
    "import pandas as pd\n",
    "import numpy as np\n",
    "import matplotlib.pyplot as plt\n",
    "import seaborn as sns\n",
    "import bs4\n",
    "import requests\n",
    "\n",
    "from bs4 import BeautifulSoup\n",
    "from urllib.request import urlopen"
   ]
  },
  {
   "cell_type": "code",
   "execution_count": 25,
   "metadata": {},
   "outputs": [],
   "source": [
    "url = \"https://asunnot.oikotie.fi/myytavat-asunnot/kuopio/16108168\"\n",
    "html = urlopen(url)"
   ]
  },
  {
   "cell_type": "code",
   "execution_count": 26,
   "metadata": {},
   "outputs": [
    {
     "data": {
      "text/plain": [
       "bs4.BeautifulSoup"
      ]
     },
     "execution_count": 26,
     "metadata": {},
     "output_type": "execute_result"
    }
   ],
   "source": [
    "soup = BeautifulSoup(html, 'lxml')\n",
    "type(soup)\n",
    "#print(soup)\n",
    "\n",
    "#print soup.prettify()[0:350]"
   ]
  },
  {
   "cell_type": "code",
   "execution_count": 27,
   "metadata": {},
   "outputs": [
    {
     "name": "stdout",
     "output_type": "stream",
     "text": [
      "<title>51,8 m² Valkeisenkatu 8, 70600 Kuopio Kerrostalo Kaksio myynnissä - Oikotie 16108168</title>\n"
     ]
    }
   ],
   "source": [
    "# Get title \n",
    "title = soup.title\n",
    "print(title)"
   ]
  },
  {
   "cell_type": "code",
   "execution_count": 28,
   "metadata": {},
   "outputs": [
    {
     "name": "stdout",
     "output_type": "stream",
     "text": [
      "None\n"
     ]
    }
   ],
   "source": [
    "description = soup.description\n",
    "print(description)"
   ]
  },
  {
   "cell_type": "code",
   "execution_count": null,
   "metadata": {},
   "outputs": [],
   "source": [
    "soup.find_all('div', {'class': 'info-table__row'})"
   ]
  },
  {
   "cell_type": "code",
   "execution_count": null,
   "metadata": {},
   "outputs": [],
   "source": [
    "soup.find_all('dt', {'class': 'info-table__title'})"
   ]
  },
  {
   "cell_type": "code",
   "execution_count": null,
   "metadata": {},
   "outputs": [],
   "source": [
    "soup.find_all('dd', {'class': 'info-table__value'})"
   ]
  },
  {
   "cell_type": "code",
   "execution_count": null,
   "metadata": {},
   "outputs": [],
   "source": [
    "for all_apartmentDetails in soup.find_all('div', {'class': 'info-table__row'}):\n",
    "    print(all_apartmentDetails)"
   ]
  },
  {
   "cell_type": "code",
   "execution_count": 33,
   "metadata": {},
   "outputs": [],
   "source": [
    "apartment = {}\n",
    "\n",
    "for all_apartmentDetails in soup.find_all('div', {'class': 'info-table__row'}):\n",
    "    #print(all_apartmentDetails)\n",
    "    for item in all_apartmentDetails.find_all('dd'):\n",
    "        attr = item.get(\"class\")[0]\n",
    "        value = item.text\n",
    "        apartment[attr] = value \n",
    "    #print(apartment)   \n"
   ]
  },
  {
   "cell_type": "code",
   "execution_count": 62,
   "metadata": {},
   "outputs": [
    {
     "name": "stdout",
     "output_type": "stream",
     "text": [
      "{'Sijainti': 'Valkeisenkatu 8, 70600 Kuopio', 'Kaupunginosa': 'Niirala', 'Kohdenumero': '1296083', 'Kerros': '2 / 3', 'Asuinpinta-ala': '51,8 m²', 'Tontin pinta-ala': '1 849 m²', 'Kokonaispinta-ala': '51,8 m²', 'Pinta-alan lähde': 'Yhtiöjärjestyksenmukainen pinta-ala', 'Huoneiston kokoonpano': '2h, k,kh', 'Huoneita': '2', 'Kunto': 'Hyvä', 'Kunnon lisätiedot': 'Hyvä', 'Lisätietoa vapautumisesta': 'Heti', 'Keittiön varusteet': 'Jääkaappi/pakastin, keraaminen liesi, liesikupu, kaapistot. Keittiö remontoitu 2008.', 'Parveke': 'Kyllä', 'Parvekkeen lisätiedot': 'lasitettu. Parvekkeen suunta: itä', 'Kylpyhuoneen varusteet': 'Kylpyhuone, suihku, peilit, pesukoneliitäntä, lattialämmitys, kiinteät valaisimet', 'Ikkunoiden suunta': 'länsi, itä', 'Näkymät': 'pihalle', 'Tulevat remontit': 'Kunnossapitotarveselvitys: Hallitus on päättänyt esittää yhtiökokoukselle vesikattoremonttia. Kustannusarvioksi esitetään 110000 euroa PTS-kartoituksen perustuen, kts. lisätietoja isännöitsijäntodistuksen kohdasta 3.2.\\n\\nParvekkeiden seinien pinnoitus/maalaus. Pääovien katosten pellitysten uusinta.', 'Tehdyt remontit': 'Parvekkeiden lattioiden maalaus -91, Julkisivujen ja katon maalaus -95, Porraskäytävien maalaus -99, A-portaan käyttövesijohtojen uusinta -02, Tulovesijohdon uusinta -03, LVIS-saneeraus (kts. tarkempi tieto kunnossapitotarveselvityksestä), ikkunoiden uusinta, lukituksen uusinta  ja ovipuhelimet, parvekerakenteiden korjaus, vesikaton kunnostus, väestönsuojan kunnostaminen -08, Jätekatoksen rakennus -09, Vesikatteen pihan puoli, pleksien uusinta -11, Sokkelien pinnoitus -12, Lämmönalajakokeskuksen saneeraus -16, Palovaroittimien paristojen vaihto, ulko-ovien kunnostus -17, Auton lämmitystolppien muutos kellolla ajastetuiksi -18, IV-järjestelmän puhdistus, Vesikaton PTS-kartoitus -19.', 'Asunnossa sauna': 'Ei', 'Asumistyyppi': 'Omistus', 'Palvelut': 'Minna Canthin koulu (etäisyys n. 0.7 km), Niiralan päiväkoti (etäisyys n. 0.4 km), Ykkösrasti (etäisyys n. 1.2 km)', 'Lisätiedot': 'Osakekirjoissa yhtiön nimi on Asunto Oy Kuopion Siikaniemenkatu 8.', 'Kohde on': 'Osakehuoneisto', 'Linkit': 'Lisätietoa kohteesta', 'Velaton hinta': '137\\xa0000\\xa0€', 'Myyntihinta': '137\\xa0000\\xa0€', 'Neliöhinta': '2\\xa0644,79\\xa0€ / m2', 'Vuokra-aika': 'Tontin vuokrasopimus päättyy: 31.12.2045', 'Hoitovastike': '212,38\\xa0€ / kk', 'Yhtiövastike': '212,38\\xa0€ / kk', 'Saunan kustannukset': '10\\xa0€ / kk', 'Vesimaksun lisätiedot': 'Oma mittari', 'Autopaikan kustannukset': '12\\xa0€ / kk', 'Uudiskohde': 'Ei', 'Taloyhtiön nimi': 'Asunto Oy Kuopion Valkeisenkatu 8', 'Rakennuksen tyyppi': 'Kerrostalo', 'Rakennusvuosi': '1960', 'Rakennusvuoden lisätiedot': '1960', 'Huoneistojen lukumäärä': '36', 'Liiketilojen pinta-ala': '0 m²', 'Liikehuoneistojen lukumäärä': '0', 'Kerroksia': '3', 'Hissi': 'Ei', 'Taloyhtiössä on sauna': 'Kyllä', 'Rakennusmateriaali': 'puu, betoni, tiili', 'Kattomateriaali': 'Pelti', 'Kattotyyppi': 'Harjakatto', 'Energialuokka': 'C2007', 'Tontin koko': '1 849 m²', 'Tontin omistus': 'Vuokralla', 'Maanvuokraaja': 'Kuopion kaupunki', 'Liikenneyhteydet': 'Paikallisliikenne  (etäisyys n. 0.5 km)', 'Lämmitys': 'Kaukolämpö, vesikeskuslämmitys', 'Tontin vuokra': 'Tontin vuokran määrä: 21500 € / vuosi', 'Lisätietoja talosta': 'Siirry talosivulle', 'Pysäköintitilan kuvaus': 'sähköpistokepaikkoja: 12, lisätietoa: Autopaikat vuokrataan jonotuslistan perusteella.', 'Yhteiset tilat': 'Kaapeli-TV, muu säilytys, ulkoiluvälinevarasto, pesutupa, sauna, väestönsuoja, kylmäsäilytystilat (ei jäähdytystä), mankeli, huoneistokohtaiset varastot', 'Ominaisuudet': 'Kiinteät valaisimet, sälekaihtimet, irralliset vaatekaapit'}\n"
     ]
    }
   ],
   "source": [
    "apartment = {}\n",
    "\n",
    "for all_apartmentDetails in soup.find_all('div', {'class': 'info-table__row'}):\n",
    "    for item in all_apartmentDetails.find_all('dt'):\n",
    "        #print(item.get(\"class\")[0] + ' ' + item.text) \n",
    "        attr = item.text\n",
    "    for value in all_apartmentDetails.find_all('dd'):\n",
    "        #print(value.get(\"class\")[0] + ' ' + value.text)\n",
    "        test = value.text\n",
    "    apartment[attr] = test\n",
    "\n",
    "print(apartment)"
   ]
  },
  {
   "cell_type": "code",
   "execution_count": 61,
   "metadata": {},
   "outputs": [
    {
     "name": "stdout",
     "output_type": "stream",
     "text": [
      "1296083\n",
      "Kunnossapitotarveselvitys: Hallitus on päättänyt esittää yhtiökokoukselle vesikattoremonttia. Kustannusarvioksi esitetään 110000 euroa PTS-kartoituksen perustuen, kts. lisätietoja isännöitsijäntodistuksen kohdasta 3.2.  Parvekkeiden seinien pinnoitus/maalaus. Pääovien katosten pellitysten uusinta.\n",
      "Kohdenumero: 1296083\n"
     ]
    }
   ],
   "source": [
    "import csv\n",
    "\n",
    "# Testi\n",
    "print(apartment['Kohdenumero'])\n",
    "print(apartment['Tulevat remontit'].replace('\\n', ' '))\n",
    "\n",
    "\n",
    "# Testi\n",
    "for key, value in apartment.items():\n",
    "    if(key == \"Kohdenumero\"):\n",
    "        print(key + ': '+ value)\n",
    "    else:\n",
    "        continue\n",
    "\n",
    "# Kirjoita csv-tiedostoon asuntojen tarkemmat tiedot\n",
    "with open('test.csv', 'w') as file:\n",
    "    for key in apartment.keys():\n",
    "        file.write(apartment['Kohdenumero'] + \"; %s; %s\\n\" %(key, apartment[key].replace('\\n', ' ')))"
   ]
  },
  {
   "cell_type": "code",
   "execution_count": null,
   "metadata": {},
   "outputs": [],
   "source": []
  },
  {
   "cell_type": "code",
   "execution_count": null,
   "metadata": {},
   "outputs": [],
   "source": []
  }
 ],
 "metadata": {
  "kernelspec": {
   "display_name": "Python 3",
   "language": "python",
   "name": "python3"
  },
  "language_info": {
   "codemirror_mode": {
    "name": "ipython",
    "version": 3
   },
   "file_extension": ".py",
   "mimetype": "text/x-python",
   "name": "python",
   "nbconvert_exporter": "python",
   "pygments_lexer": "ipython3",
   "version": "3.8.5"
  }
 },
 "nbformat": 4,
 "nbformat_minor": 4
}
