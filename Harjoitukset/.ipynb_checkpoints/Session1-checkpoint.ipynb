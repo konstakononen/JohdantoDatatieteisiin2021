{
 "cells": [
  {
   "cell_type": "code",
   "execution_count": 6,
   "metadata": {},
   "outputs": [
    {
     "ename": "SyntaxError",
     "evalue": "(unicode error) 'unicodeescape' codec can't decode bytes in position 2-3: truncated \\UXXXXXXXX escape (<ipython-input-6-15323abf349f>, line 12)",
     "output_type": "error",
     "traceback": [
      "\u001b[1;36m  File \u001b[1;32m\"<ipython-input-6-15323abf349f>\"\u001b[1;36m, line \u001b[1;32m12\u001b[0m\n\u001b[1;33m    url = (\"C:\\Users\\35840\\Documents\\JohdantoDatatieteisiin2021\\JohdantoDatatieteisiin2021\\Harjoitukset\\country_vaccinations.csv\")\u001b[0m\n\u001b[1;37m           ^\u001b[0m\n\u001b[1;31mSyntaxError\u001b[0m\u001b[1;31m:\u001b[0m (unicode error) 'unicodeescape' codec can't decode bytes in position 2-3: truncated \\UXXXXXXXX escape\n"
     ]
    }
   ],
   "source": [
    "# Declare the libraries that will be used\n",
    "import pandas as pd\n",
    "\n",
    "# Used to plot the results\n",
    "import matplotlib.pyplot as plt\n",
    "from matplotlib import style\n",
    "\n",
    "style.use('ggplot')\n",
    "\n",
    "\n",
    "# Tiedoston osoite\n",
    "url = (\"C:\\Users\\35840\\Documents\\JohdantoDatatieteisiin2021\\JohdantoDatatieteisiin2021\\Harjoitukset\\country_vaccinations.csv\")\n",
    "\n",
    "# Use pandas to import data\n",
    "orig_df = pd.read_csv(url)\n",
    "\n",
    "# To keep original dataframe for referencing\n",
    "df = orig_df.copy()\n",
    "print('List of attributes:', df.columns.values.tolist())\n",
    "\n",
    "print(df.head())"
   ]
  },
  {
   "cell_type": "code",
   "execution_count": null,
   "metadata": {},
   "outputs": [],
   "source": []
  }
 ],
 "metadata": {
  "kernelspec": {
   "display_name": "Python 3",
   "language": "python",
   "name": "python3"
  },
  "language_info": {
   "codemirror_mode": {
    "name": "ipython",
    "version": 3
   },
   "file_extension": ".py",
   "mimetype": "text/x-python",
   "name": "python",
   "nbconvert_exporter": "python",
   "pygments_lexer": "ipython3",
   "version": "3.8.5"
  }
 },
 "nbformat": 4,
 "nbformat_minor": 4
}
