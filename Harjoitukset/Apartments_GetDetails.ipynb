{
 "cells": [
  {
   "cell_type": "code",
   "execution_count": 1,
   "metadata": {},
   "outputs": [
    {
     "ename": "FileNotFoundError",
     "evalue": "[Errno 2] No such file or directory: 'Kohteet.csv'",
     "output_type": "error",
     "traceback": [
      "\u001b[1;31m---------------------------------------------------------------------------\u001b[0m",
      "\u001b[1;31mFileNotFoundError\u001b[0m                         Traceback (most recent call last)",
      "\u001b[1;32m<ipython-input-1-a3b316e2acdb>\u001b[0m in \u001b[0;36m<module>\u001b[1;34m\u001b[0m\n\u001b[0;32m      4\u001b[0m \u001b[1;33m\u001b[0m\u001b[0m\n\u001b[0;32m      5\u001b[0m \u001b[1;31m# Lue csv-tiedoston sarake ilman otsikkoa ja tallenna listaan urlit\u001b[0m\u001b[1;33m\u001b[0m\u001b[1;33m\u001b[0m\u001b[1;33m\u001b[0m\u001b[0m\n\u001b[1;32m----> 6\u001b[1;33m \u001b[1;32mwith\u001b[0m \u001b[0mopen\u001b[0m\u001b[1;33m(\u001b[0m\u001b[1;34m'Kohteet.csv'\u001b[0m\u001b[1;33m,\u001b[0m \u001b[0mencoding\u001b[0m\u001b[1;33m=\u001b[0m\u001b[1;34m'utf-8'\u001b[0m\u001b[1;33m)\u001b[0m \u001b[1;32mas\u001b[0m \u001b[0mcsvfile\u001b[0m\u001b[1;33m:\u001b[0m\u001b[1;33m\u001b[0m\u001b[1;33m\u001b[0m\u001b[0m\n\u001b[0m\u001b[0;32m      7\u001b[0m     \u001b[0mreader\u001b[0m \u001b[1;33m=\u001b[0m \u001b[0mcsv\u001b[0m\u001b[1;33m.\u001b[0m\u001b[0mreader\u001b[0m\u001b[1;33m(\u001b[0m\u001b[0mcsvfile\u001b[0m\u001b[1;33m)\u001b[0m\u001b[1;33m\u001b[0m\u001b[1;33m\u001b[0m\u001b[0m\n\u001b[0;32m      8\u001b[0m     \u001b[0mnext\u001b[0m\u001b[1;33m(\u001b[0m\u001b[0mreader\u001b[0m\u001b[1;33m,\u001b[0m \u001b[1;32mNone\u001b[0m\u001b[1;33m)\u001b[0m\u001b[1;33m\u001b[0m\u001b[1;33m\u001b[0m\u001b[0m\n",
      "\u001b[1;31mFileNotFoundError\u001b[0m: [Errno 2] No such file or directory: 'Kohteet.csv'"
     ]
    }
   ],
   "source": [
    "import csv\n",
    "\n",
    "urls = []\n",
    "\n",
    "# Lue csv-tiedoston sarake ilman otsikkoa ja tallenna listaan urlit\n",
    "with open('Kohteet.csv', encoding='utf-8') as csvfile:\n",
    "    reader = csv.reader(csvfile)\n",
    "    next(reader, None)\n",
    "    urls = list(reader)\n",
    "    \n",
    "for url in urls:\n",
    "    print(url)\n"
   ]
  },
  {
   "cell_type": "code",
   "execution_count": 44,
   "metadata": {},
   "outputs": [],
   "source": [
    "import pandas as pd\n",
    "import numpy as np\n",
    "import matplotlib.pyplot as plt\n",
    "import seaborn as sns\n",
    "import bs4\n",
    "import requests\n",
    "\n",
    "from bs4 import BeautifulSoup\n",
    "from urllib.request import urlopen"
   ]
  },
  {
   "cell_type": "code",
   "execution_count": 45,
   "metadata": {},
   "outputs": [
    {
     "name": "stdout",
     "output_type": "stream",
     "text": [
      "Avattu: 42,5 m² Suokatu 15 A, 70100 Kuopio Kerrostalo Kaksio myynnissä - Oikotie 16028896\n",
      "Tallennettu: 21457487\n",
      "Avattu: 43 m² Vuorikatu 15 A, 70100 Kuopio Kerrostalo Kaksio myynnissä - Oikotie 16094999\n",
      "Tallennettu: 501060\n",
      "Avattu: 53 m² Rovastinkatu 13 B, 70600 Kuopio Kerrostalo Kaksio myynnissä - Oikotie 16107446\n",
      "Tallennettu: 501964\n",
      "Avattu: 55 m² Puijonkatu 7 B, 70100 Kuopio Kerrostalo Kaksio myynnissä - Oikotie 16115141\n",
      "Tallennettu: 502730\n",
      "Avattu: 55,5 m² Puistokatu 8 B, 70110 Kuopio Kerrostalo Kaksio myynnissä - Oikotie 15949840\n",
      "Tallennettu: 692905\n",
      "Avattu: 58 m² Huuhankatu 4 A, 70600 Kuopio Kerrostalo Kaksio myynnissä - Oikotie 15995080\n",
      "Tallennettu: 21676904\n"
     ]
    }
   ],
   "source": [
    "# Tallentaa csv-tiedostoon kaikkien asuntojen tarkemmat tiedot \n",
    "with open('test.csv', 'w') as file:\n",
    "    \n",
    "    for url in urls:\n",
    "        html = urlopen(url[0])\n",
    "        soup = BeautifulSoup(html, 'lxml')\n",
    "\n",
    "        # Get title \n",
    "        title = soup.find('title')\n",
    "        print(\"Avattu: \" + title.string)\n",
    "\n",
    "        apartment = {}\n",
    "\n",
    "        for all_apartmentDetails in soup.find_all('div', {'class': 'info-table__row'}):\n",
    "            for item in all_apartmentDetails.find_all('dt'):\n",
    "                attr = item.text\n",
    "            for value in all_apartmentDetails.find_all('dd'):\n",
    "                test = value.text\n",
    "            apartment[attr] = test\n",
    "        \n",
    "        \"\"\"\n",
    "        for key, value in apartment.items():\n",
    "            print(key + ': '+ value.replace('\\n', ' '))\n",
    "\n",
    "        print('\\n\\n')\n",
    "        \"\"\"\n",
    "\n",
    "        # Kirjoita csv-tiedostoon asuntojen tarkemmat tiedot\n",
    "\n",
    "        for key in apartment.keys():\n",
    "            file.write(apartment['Kohdenumero'] + \"; %s;%s\\n\" %(key, apartment[key].replace('\\n', ' ')))\n",
    "        \n",
    "        print(\"Tallennettu: \" + apartment['Kohdenumero'])"
   ]
  },
  {
   "cell_type": "code",
   "execution_count": null,
   "metadata": {},
   "outputs": [],
   "source": []
  }
 ],
 "metadata": {
  "kernelspec": {
   "display_name": "Python 3",
   "language": "python",
   "name": "python3"
  },
  "language_info": {
   "codemirror_mode": {
    "name": "ipython",
    "version": 3
   },
   "file_extension": ".py",
   "mimetype": "text/x-python",
   "name": "python",
   "nbconvert_exporter": "python",
   "pygments_lexer": "ipython3",
   "version": "3.8.5"
  }
 },
 "nbformat": 4,
 "nbformat_minor": 4
}
