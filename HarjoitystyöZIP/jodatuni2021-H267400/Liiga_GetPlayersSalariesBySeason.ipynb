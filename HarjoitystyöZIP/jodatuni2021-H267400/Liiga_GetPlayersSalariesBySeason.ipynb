{
 "cells": [
  {
   "cell_type": "code",
   "execution_count": null,
   "metadata": {},
   "outputs": [],
   "source": [
    "print(\"Aloitettu: GetPlayersSalariesBySeason \\n\")"
   ]
  },
  {
   "cell_type": "code",
   "execution_count": 9,
   "metadata": {},
   "outputs": [],
   "source": [
    "# Haetaan kaikki ladattavat kaudet erikseen määritetystä tiedostosta\n",
    "\n",
    "import csv\n",
    "import pandas as pd\n",
    "\n",
    "player_salary = []\n",
    "\n",
    "# Lue csv-tiedoston sarake ilman otsikkoa ja tallenna listaan urlit\n",
    "with open('Pelaajapalkat.csv', encoding='utf-8') as csvfile:\n",
    "    reader = csv.reader(csvfile, delimiter=';')\n",
    "    headers = next(reader, None)\n",
    "    player_salary = list(reader)\n",
    "\n",
    "df = pd.DataFrame(player_salary, columns = headers) "
   ]
  },
  {
   "cell_type": "code",
   "execution_count": 10,
   "metadata": {},
   "outputs": [
    {
     "name": "stdout",
     "output_type": "stream",
     "text": [
      "﻿Kausi           object\n",
      "Joukkue          object\n",
      "Kokonaistulot    object\n",
      "Ansiotulot       object\n",
      "Pääomatulot      object\n",
      "Koko_nimi        object\n",
      "dtype: object\n"
     ]
    }
   ],
   "source": [
    "print(df.dtypes)\n",
    "print(\"\")"
   ]
  },
  {
   "cell_type": "code",
   "execution_count": 11,
   "metadata": {},
   "outputs": [
    {
     "data": {
      "text/html": [
       "<div>\n",
       "<style scoped>\n",
       "    .dataframe tbody tr th:only-of-type {\n",
       "        vertical-align: middle;\n",
       "    }\n",
       "\n",
       "    .dataframe tbody tr th {\n",
       "        vertical-align: top;\n",
       "    }\n",
       "\n",
       "    .dataframe thead th {\n",
       "        text-align: right;\n",
       "    }\n",
       "</style>\n",
       "<table border=\"1\" class=\"dataframe\">\n",
       "  <thead>\n",
       "    <tr style=\"text-align: right;\">\n",
       "      <th></th>\n",
       "      <th>﻿Kausi</th>\n",
       "      <th>Joukkue</th>\n",
       "      <th>Kokonaistulot</th>\n",
       "      <th>Ansiotulot</th>\n",
       "      <th>Pääomatulot</th>\n",
       "      <th>Koko_nimi</th>\n",
       "    </tr>\n",
       "  </thead>\n",
       "  <tbody>\n",
       "    <tr>\n",
       "      <th>0</th>\n",
       "      <td>2019-2020</td>\n",
       "      <td>HIFK</td>\n",
       "      <td>116567</td>\n",
       "      <td>116567</td>\n",
       "      <td>0</td>\n",
       "      <td>Ahonen Rony</td>\n",
       "    </tr>\n",
       "    <tr>\n",
       "      <th>1</th>\n",
       "      <td>2019-2020</td>\n",
       "      <td>HIFK</td>\n",
       "      <td>7398</td>\n",
       "      <td>7398</td>\n",
       "      <td>0</td>\n",
       "      <td>And Terry</td>\n",
       "    </tr>\n",
       "    <tr>\n",
       "      <th>2</th>\n",
       "      <td>2019-2020</td>\n",
       "      <td>HIFK</td>\n",
       "      <td>34523</td>\n",
       "      <td>34523</td>\n",
       "      <td>0</td>\n",
       "      <td>Dyk Sebastian</td>\n",
       "    </tr>\n",
       "    <tr>\n",
       "      <th>3</th>\n",
       "      <td>2019-2020</td>\n",
       "      <td>HIFK</td>\n",
       "      <td>31992</td>\n",
       "      <td>31992</td>\n",
       "      <td>0</td>\n",
       "      <td>Engberg Teemu</td>\n",
       "    </tr>\n",
       "    <tr>\n",
       "      <th>4</th>\n",
       "      <td>2019-2020</td>\n",
       "      <td>HIFK</td>\n",
       "      <td>84821</td>\n",
       "      <td>84673</td>\n",
       "      <td>148</td>\n",
       "      <td>Engren Atte</td>\n",
       "    </tr>\n",
       "  </tbody>\n",
       "</table>\n",
       "</div>"
      ],
      "text/plain": [
       "      ﻿Kausi Joukkue Kokonaistulot Ansiotulot Pääomatulot      Koko_nimi\n",
       "0  2019-2020    HIFK        116567     116567           0    Ahonen Rony\n",
       "1  2019-2020    HIFK          7398       7398           0      And Terry\n",
       "2  2019-2020    HIFK         34523      34523           0  Dyk Sebastian\n",
       "3  2019-2020    HIFK         31992      31992           0  Engberg Teemu\n",
       "4  2019-2020    HIFK         84821      84673         148    Engren Atte"
      ]
     },
     "execution_count": 11,
     "metadata": {},
     "output_type": "execute_result"
    }
   ],
   "source": [
    "# muokkaa kentät\n",
    "\n",
    "df.head()"
   ]
  },
  {
   "cell_type": "code",
   "execution_count": 12,
   "metadata": {},
   "outputs": [],
   "source": [
    "# tallenna uusi csv\n",
    "\n",
    "df.to_csv(r'C:\\Users\\35840\\Documents\\JohdantoDatatieteisiin2021\\JohdantoDatatieteisiin2021\\Harjoitustyö\\PlayersSalaries_by_Season.csv', index = False, header=True)\n",
    "\n",
    "print(\"Tallennettu PlayersSalaries_by_Season.csv \\n\")"
   ]
  },
  {
   "cell_type": "code",
   "execution_count": null,
   "metadata": {},
   "outputs": [],
   "source": [
    "print(\"Suoritettu PlayersSalaries_by_Season\")"
   ]
  }
 ],
 "metadata": {
  "kernelspec": {
   "display_name": "Python 3",
   "language": "python",
   "name": "python3"
  },
  "language_info": {
   "codemirror_mode": {
    "name": "ipython",
    "version": 3
   },
   "file_extension": ".py",
   "mimetype": "text/x-python",
   "name": "python",
   "nbconvert_exporter": "python",
   "pygments_lexer": "ipython3",
   "version": "3.8.5"
  }
 },
 "nbformat": 4,
 "nbformat_minor": 4
}
