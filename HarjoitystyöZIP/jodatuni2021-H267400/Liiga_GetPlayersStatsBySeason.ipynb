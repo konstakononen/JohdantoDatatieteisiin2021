{
 "cells": [
  {
   "cell_type": "code",
   "execution_count": 1,
   "metadata": {},
   "outputs": [
    {
     "name": "stdout",
     "output_type": "stream",
     "text": [
      "Aloitettu\n"
     ]
    }
   ],
   "source": [
    "print('Aloitettu: Liiga_GetPlayersStatsBySeason \\n')"
   ]
  },
  {
   "cell_type": "code",
   "execution_count": 3,
   "metadata": {},
   "outputs": [
    {
     "name": "stdout",
     "output_type": "stream",
     "text": [
      "['https://www.liiga.fi/fi/tilastot/2020-2021/runkosarja/pelaajat/']\n",
      "['https://www.liiga.fi/fi/tilastot/2019-2020/runkosarja/pelaajat/']\n",
      "['https://www.liiga.fi/fi/tilastot/2018-2019/runkosarja/pelaajat/']\n"
     ]
    }
   ],
   "source": [
    "# Haetaan kaikki ladattavat kaudet erikseen määritetystä tiedostosta\n",
    "\n",
    "import csv\n",
    "urls = []\n",
    "\n",
    "# Lue csv-tiedoston sarake ilman otsikkoa ja tallenna listaan urlit\n",
    "with open('LiigaKaudet.csv', encoding='utf-8') as csvfile:\n",
    "    reader = csv.reader(csvfile)\n",
    "    next(reader, None)\n",
    "    urls = list(reader)\n",
    "\n",
    "print('Ladattavat kaudet: ')    \n",
    "for url in urls:\n",
    "    print(url)\n",
    "\n",
    "print(\"\")"
   ]
  },
  {
   "cell_type": "code",
   "execution_count": 4,
   "metadata": {},
   "outputs": [],
   "source": [
    "import pandas as pd\n",
    "import bs4\n",
    "import requests\n",
    "\n",
    "from bs4 import BeautifulSoup\n",
    "from urllib.request import urlopen"
   ]
  },
  {
   "cell_type": "code",
   "execution_count": 5,
   "metadata": {},
   "outputs": [
    {
     "name": "stdout",
     "output_type": "stream",
     "text": [
      "Avattu: 2020-2021\n",
      "Luotu df: \n",
      "['Kausi', 'Linkki', '#', 'Nimi', 'Joukkue', 'PP', 'O', 'M', 'S', 'P', 'R', '+', '-', '±', 'YV', 'AV', 'VM', 'L', 'L%', 'A', 'A%', 'Aika']\n",
      "Tallennettu kausi 2020-2021 dataframeen \n",
      "\n",
      "Avattu: 2019-2020\n",
      "Tallennettu kausi 2019-2020 dataframeen \n",
      "\n",
      "Avattu: 2018-2019\n",
      "Tallennettu kausi 2018-2019 dataframeen \n",
      "\n"
     ]
    }
   ],
   "source": [
    "# Kerätään tiedot webscrapperilla ja tallennetaan dataframeen\n",
    "\n",
    "first_url = True\n",
    "\n",
    "list_of_players = []\n",
    "\n",
    "# Käydään yksi url-osoite kerrrallaan läpi\n",
    "for url in urls:\n",
    "    html = urlopen(url[0])\n",
    "    soup = BeautifulSoup(html, 'lxml')\n",
    "\n",
    "    # Sivun otsikko\n",
    "    title = soup.find('title')\n",
    "    title_splitted = title.string.split()\n",
    "    season = title_splitted[5]\n",
    "    print(\"Avattu: \" + season)\n",
    "    \n",
    "    \n",
    "    # Tarkista onko ensimmäinen kierros --> Luo dataframe\n",
    "    if first_url:\n",
    "        for all_data in soup.find_all('table', {'id': 'stats'}):\n",
    "            \n",
    "            # Haetaan otsikkorivi\n",
    "            for headers in all_data.find_all('thead'):\n",
    "                for header in headers.find_all('tr'):\n",
    "                    column_names = []\n",
    "                    column_names.append(\"Kausi\")\n",
    "                    column_names.append(\"Linkki\")\n",
    "                    for column in header.find_all('td'):\n",
    "                        column_names.append(' '.join(column.text.split()))\n",
    "        \n",
    "        df = pd.DataFrame(columns = column_names)\n",
    "        print(\"Luotu df: \")\n",
    "        print(column_names)\n",
    "    \n",
    "    # Haetaan pelaajien tilastot taulukosta ja lisätään df\n",
    "    for all_data in soup.find_all('table', {'id': 'stats'}):\n",
    "        \n",
    "        #Pelaajatilastot: kaikki pelaajat yhteen listaan\n",
    "        for table_of_stats in all_data.find_all('tbody'):\n",
    "            \n",
    "            for stats in table_of_stats.find_all('tr'):\n",
    "                player = []\n",
    "                player.append(season)\n",
    "                \n",
    "                link = \"\"\n",
    "                for a in stats.find_all('a', href=True):\n",
    "                    link = a.get('href')\n",
    "                player.append(link)\n",
    "                \n",
    "                for detail in stats.find_all('td'):\n",
    "                    player.append(' '.join(detail.text.split()))\n",
    "                list_of_players.append(player)\n",
    "\n",
    "                # Tallennetaan pelaajatiedot dataframeen\n",
    "                df.loc[len(df)] = player\n",
    "    \n",
    "    print(\"Tallennettu kausi \" + season + \" dataframeen \\n\")\n",
    "    first_url = False            \n",
    "    "
   ]
  },
  {
   "cell_type": "code",
   "execution_count": null,
   "metadata": {},
   "outputs": [],
   "source": [
    "# Tarkista dataframen tiedot\n",
    "print('DataFrame: \\n')\n",
    "print(df)\n",
    "print(\"\")"
   ]
  },
  {
   "cell_type": "code",
   "execution_count": null,
   "metadata": {},
   "outputs": [],
   "source": [
    "print(\"Tietotyypit: \\n\")\n",
    "print(df.dtypes)\n",
    "print(\"\")"
   ]
  },
  {
   "cell_type": "code",
   "execution_count": null,
   "metadata": {},
   "outputs": [],
   "source": [
    "print(\"Siivotaan datasettiä; sarakkeiden nimiä, tietotyyppejä ja arvoja \\n\")\n",
    "\n",
    "# Muutetaan sarakkeiden nimet\n",
    "df.rename(columns= {'#': 'Pistepörssi_sijoitus', 'PP' : 'Pelipaikka', '+': 'Plussat', '-': 'Miinukset', '±': 'PlusMiinus', 'Aika': 'Peliaika'}, inplace=True)\n",
    "\n",
    "# Korjataan arvoja\n",
    "df['Plussat'] = df['Plussat'].replace(['-'], None)\n",
    "df['Miinukset'] = df['Miinukset'].replace(['-'], None)\n",
    "df['PlusMiinus'] = df['PlusMiinus'].replace(['-'], None)\n",
    "#df['L%'] = df['L%'].replace([','], '.')\n",
    "#df['A%'] = df['A%'].replace([','], '.')\n",
    "\n",
    "# Muokataan tietotyyppejä\n",
    "df['Joukkue'] = df['Joukkue'].astype('category')\n",
    "df['Pelipaikka'] = df['Pelipaikka'].astype('category')\n",
    "df['O'] = df['O'].astype('int64')\n",
    "df['M'] = df['M'].astype('int64')\n",
    "df['S'] = df['S'].astype('int64')\n",
    "df['P'] = df['P'].astype('int64')\n",
    "df['R'] = df['R'].astype('int64')\n",
    "df['Plussat'] = df['Plussat'].astype('int64')\n",
    "df['Miinukset'] = df['Miinukset'].astype('int64')\n",
    "df['PlusMiinus'] = df['PlusMiinus'].astype('int64')\n",
    "df['YV'] = df['YV'].astype('int64')\n",
    "df['AV'] = df['AV'].astype('int64')\n",
    "df['VM'] = df['VM'].astype('int64')\n",
    "df['L'] = df['L'].astype('int64')\n",
    "#df['L%'] = df['L%'].astype('int64')\n",
    "df['A'] = df['A'].astype('int64')\n",
    "#df['A%'] = df['A%'].astype('int64')"
   ]
  },
  {
   "cell_type": "code",
   "execution_count": null,
   "metadata": {},
   "outputs": [],
   "source": [
    "# Muokataan datasetin tietueita käytettävämpään muotoon \n",
    "\n",
    "\"\"\"\n",
    "Korjauksia: L%, A%\n",
    "Päättelyä: kausi, nimi, plussat, miinukset, plusmiinus, L%, A%, peliaika\n",
    "\"\"\"\n",
    "\n",
    "#Kausi\n",
    "df['Kausi_jaettu'] = df['Kausi'].str.split('-')\n",
    "df['Kausi_aloitus'] = df.apply(lambda row: row.Kausi_jaettu[0], axis=1)\n",
    "df['Kausi_lopetus'] = df.apply(lambda row: row.Kausi_jaettu[1], axis=1)\n",
    "df.drop('Kausi_jaettu', inplace=True, axis=1)\n",
    "\n",
    "#Nimi\n",
    "df['Tulokas'] = df['Nimi'].str.contains('*', regex=False)\n",
    "df['Ulkomaille'] = df['Nimi'].str.contains('#', regex=False)\n",
    "df['Nimi'] = df['Nimi'].map(lambda cell: cell.lstrip('#').rstrip('aAbBcC'))\n",
    "df['Nimi'] = df['Nimi'].map(lambda cell: cell.lstrip('*').rstrip('aAbBcC'))\n",
    "\n",
    "#Nimi\n",
    "df['Nimi_jaettu'] = df['Nimi'].str.split(',')\n",
    "df['Etunimi'] = df.apply(lambda row: row.Nimi_jaettu[1], axis=1)\n",
    "df['Sukunimi'] = df.apply(lambda row: row.Nimi_jaettu[0], axis=1)\n",
    "df['Koko_nimi'] = df['Sukunimi'] + ' ' + df['Etunimi']\n",
    "df.drop('Nimi_jaettu', inplace=True, axis=1)\n",
    "#df.drop('Nimi', inplace=True, axis=1)\n",
    "\n",
    "#Peliaika\n",
    "df['Peliaika_jaettu'] = df['Peliaika'].str.split(':')\n",
    "df['Peliaika_minuutit'] = df.apply(lambda row: row.Peliaika_jaettu[0], axis=1)\n",
    "#df['Peliaika_sekuntit'] = df.apply(lambda row: row.Peliaika_jaettu[1], axis=1)\n",
    "df.drop('Peliaika_jaettu', inplace=True, axis=1)\n",
    "\n",
    "#pelaajaid\n",
    "df['Linkki_temp'] = df['Linkki'].str.split('/')\n",
    "df['pelaaja_id'] = df.apply(lambda row: row.Linkki_temp[3], axis=1)\n",
    "df.drop('Linkki_temp', inplace=True, axis=1)"
   ]
  },
  {
   "cell_type": "code",
   "execution_count": null,
   "metadata": {},
   "outputs": [],
   "source": [
    "print(\"Uudet tietotyypit: \\n\")\n",
    "print(df.dtypes)\n",
    "print(\"\")"
   ]
  },
  {
   "cell_type": "code",
   "execution_count": 9,
   "metadata": {},
   "outputs": [],
   "source": [
    "# Tallennetaan datasetti csv-tiedostoon (tarvittaessa vanhan korvaaminen)\n",
    "\n",
    "df.to_csv(r'C:\\Users\\35840\\Documents\\JohdantoDatatieteisiin2021\\JohdantoDatatieteisiin2021\\Harjoitustyö\\PlayersStats_by_Season.csv', index = False, header=True)\n",
    "\n",
    "print(\"Tallennettu PlayersStats_by_Season.csv \\n\")"
   ]
  },
  {
   "cell_type": "code",
   "execution_count": null,
   "metadata": {},
   "outputs": [],
   "source": [
    "print(\"Suoritettu Liiga_GetPlayersStatsBySeason\")"
   ]
  }
 ],
 "metadata": {
  "kernelspec": {
   "display_name": "Python 3",
   "language": "python",
   "name": "python3"
  },
  "language_info": {
   "codemirror_mode": {
    "name": "ipython",
    "version": 3
   },
   "file_extension": ".py",
   "mimetype": "text/x-python",
   "name": "python",
   "nbconvert_exporter": "python",
   "pygments_lexer": "ipython3",
   "version": "3.8.5"
  }
 },
 "nbformat": 4,
 "nbformat_minor": 4
}
